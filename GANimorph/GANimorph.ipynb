{
  "cells": [
    {
      "cell_type": "markdown",
      "source": [
        "# Imports"
      ],
      "metadata": {
        "id": "QThUM4zarbGX"
      }
    },
    {
      "cell_type": "code",
      "execution_count": 2,
      "metadata": {
        "id": "MnIX3JMx29Q8"
      },
      "outputs": [],
      "source": [
        "import argparse\n",
        "import os\n",
        "import numpy as np\n",
        "import math\n",
        "from math import exp\n",
        "import itertools\n",
        "import datetime\n",
        "import time\n",
        "import sys\n",
        "from tqdm import tqdm\n",
        "\n",
        "import shutil\n",
        "import zipfile\n",
        "from google.colab import drive\n",
        "\n",
        "import glob\n",
        "import random\n",
        "\n",
        "from torch.utils.data import Dataset\n",
        "from PIL import Image\n",
        "\n",
        "import torchvision.transforms as transforms\n",
        "from torchvision.utils import save_image, make_grid\n",
        "\n",
        "from torch.utils.data import DataLoader\n",
        "from torchvision import datasets\n",
        "from torch.autograd import Variable\n",
        "\n",
        "import torch.nn as nn\n",
        "import torch.nn.functional as F\n",
        "import torch\n",
        "\n",
        "# from pytorch_msssim.pytorch_msssim import MSSSIM, msssim"
      ]
    },
    {
      "cell_type": "markdown",
      "source": [
        "# Download datasets"
      ],
      "metadata": {
        "id": "oFoPzFnO0DQw"
      }
    },
    {
      "cell_type": "markdown",
      "metadata": {
        "id": "2hsdCzrcUP3W"
      },
      "source": [
        "## connect drive and kaggle"
      ]
    },
    {
      "cell_type": "code",
      "execution_count": 4,
      "metadata": {
        "colab": {
          "base_uri": "https://localhost:8080/"
        },
        "id": "8uzdm2E4SLqH",
        "outputId": "a0997083-053e-4306-93a4-33adbf465451"
      },
      "outputs": [
        {
          "output_type": "stream",
          "name": "stdout",
          "text": [
            "Drive already mounted at /content/drive; to attempt to forcibly remount, call drive.mount(\"/content/drive\", force_remount=True).\n"
          ]
        }
      ],
      "source": [
        "drive.mount('/content/drive')\n",
        "drive_path = \"/content/drive/My Drive/Colab/cycleGAN/\""
      ]
    },
    {
      "cell_type": "code",
      "execution_count": 5,
      "metadata": {
        "colab": {
          "base_uri": "https://localhost:8080/",
          "height": 0
        },
        "id": "DHKPbaA3TUNO",
        "outputId": "e687d5bf-5f3a-412b-dd9d-0601e23d9fb7"
      },
      "outputs": [
        {
          "output_type": "execute_result",
          "data": {
            "text/plain": [
              "'/content/kaggle.json'"
            ],
            "application/vnd.google.colaboratory.intrinsic+json": {
              "type": "string"
            }
          },
          "metadata": {},
          "execution_count": 5
        }
      ],
      "source": [
        "kaggle_key = '/content/drive/MyDrive/Colab/progan/kaggle.json'\n",
        "shutil.copyfile(kaggle_key, '/content/kaggle.json')"
      ]
    },
    {
      "cell_type": "code",
      "execution_count": 6,
      "metadata": {
        "id": "hMimMkyITlwn"
      },
      "outputs": [],
      "source": [
        "! mkdir ~/.kaggle\n",
        "! cp kaggle.json ~/.kaggle/\n",
        "! chmod 600 ~/.kaggle/kaggle.json"
      ]
    },
    {
      "cell_type": "code",
      "execution_count": 7,
      "metadata": {
        "colab": {
          "base_uri": "https://localhost:8080/"
        },
        "id": "QOTakpLvTfi0",
        "outputId": "e5ceb67a-93c1-4925-b057-7fb863527a10"
      },
      "outputs": [
        {
          "output_type": "stream",
          "name": "stdout",
          "text": [
            "Downloading ocular-disease-recognition-odir5k.zip to /content\n",
            "100% 1.62G/1.62G [00:14<00:00, 117MB/s]\n",
            "100% 1.62G/1.62G [00:14<00:00, 123MB/s]\n"
          ]
        }
      ],
      "source": [
        "! kaggle datasets download \"andrewmvd/ocular-disease-recognition-odir5k\""
      ]
    },
    {
      "cell_type": "markdown",
      "metadata": {
        "id": "AnnONtd5UQue"
      },
      "source": [
        "## create directories"
      ]
    },
    {
      "cell_type": "code",
      "execution_count": 8,
      "metadata": {
        "id": "1wQQcJX6Uc4a"
      },
      "outputs": [],
      "source": [
        "! mkdir /content/data\n",
        "! mkdir /content/data/trainA\n",
        "! mkdir /content/data/trainB\n",
        "! mkdir /content/data/testA\n",
        "! mkdir /content/data/testB"
      ]
    },
    {
      "cell_type": "markdown",
      "metadata": {
        "id": "tma7cM3pWnB5"
      },
      "source": [
        "## copy files"
      ]
    },
    {
      "cell_type": "markdown",
      "metadata": {
        "id": "8w8l4ivLW9GG"
      },
      "source": [
        "### oct"
      ]
    },
    {
      "cell_type": "markdown",
      "metadata": {
        "id": "iiXXEEQwwRal"
      },
      "source": [
        "! rm -r \"/content/data/train/oct/\"\n",
        "! rm -r \"/content/data/val/oct/\""
      ]
    },
    {
      "cell_type": "code",
      "execution_count": 9,
      "metadata": {
        "id": "yTMD9CS9WoLr"
      },
      "outputs": [],
      "source": [
        "zip_ref = zipfile.ZipFile('/content/drive/My Drive/Colab/progan/kermany2018.zip', 'r')\n",
        "nb_samples = 10000\n",
        "nb_samples_val = 20\n",
        "counter = 0\n",
        "counter_val=0\n",
        "for file in zip_ref.infolist():\n",
        "    if file.filename.startswith('OCT2017 /train/NORMAL') and counter < nb_samples: #ONLY DOWNLOADING DRUSEN train IMAGES\n",
        "        #print(file.filename.split('/')[-1])\n",
        "        zip_ref.extract(file)\n",
        "        counter += 1\n",
        "    if file.filename.startswith('OCT2017 /val/NORMAL') and counter_val < nb_samples_val:\n",
        "        zip_ref.extract(file)\n",
        "        counter += 1\n",
        "zip_ref.close()"
      ]
    },
    {
      "cell_type": "code",
      "execution_count": 10,
      "metadata": {
        "colab": {
          "base_uri": "https://localhost:8080/"
        },
        "id": "PeC2ENNIad6Y",
        "outputId": "6ed6add3-8301-4aaa-a8e4-79d3aff8bb12"
      },
      "outputs": [
        {
          "output_type": "stream",
          "name": "stdout",
          "text": [
            "complete\n"
          ]
        }
      ],
      "source": [
        "directory = '/content/OCT2017 /val/NORMAL/'\n",
        "for filename in os.listdir(directory):\n",
        "    f = os.path.join(directory, filename)\n",
        "    if os.path.isfile(f):\n",
        "      #print('saving', filename, ' ...')\n",
        "      shutil.copyfile(directory+filename, '/content/data/testB/'+filename)\n",
        "print(\"complete\")"
      ]
    },
    {
      "cell_type": "code",
      "execution_count": 11,
      "metadata": {
        "colab": {
          "base_uri": "https://localhost:8080/"
        },
        "id": "Sv1-o26cbwur",
        "outputId": "cb090c99-cd92-4052-e9f0-1f8ec2870a14"
      },
      "outputs": [
        {
          "output_type": "stream",
          "name": "stdout",
          "text": [
            "complete\n"
          ]
        }
      ],
      "source": [
        "directory = '/content/OCT2017 /train/NORMAL/'\n",
        "for filename in os.listdir(directory):\n",
        "    f = os.path.join(directory, filename)\n",
        "    if os.path.isfile(f):\n",
        "      #print('saving', filename, ' ...')\n",
        "      shutil.copyfile(directory+filename, '/content/data/trainB/'+filename)\n",
        "print(\"complete\")"
      ]
    },
    {
      "cell_type": "code",
      "execution_count": 12,
      "metadata": {
        "id": "u_IfyeDCbB2c"
      },
      "outputs": [],
      "source": [
        "! rm -r \"/content/OCT2017 /\""
      ]
    },
    {
      "cell_type": "markdown",
      "metadata": {
        "id": "J2vL-OXTbJUo"
      },
      "source": [
        "### dfe"
      ]
    },
    {
      "cell_type": "code",
      "execution_count": 13,
      "metadata": {
        "id": "r37svuPOcdk8"
      },
      "outputs": [],
      "source": [
        "zip_ref = zipfile.ZipFile('ocular-disease-recognition-odir5k.zip', 'r')\n",
        "zip_ref.extractall()\n",
        "zip_ref.close()"
      ]
    },
    {
      "cell_type": "code",
      "execution_count": 14,
      "metadata": {
        "id": "uFPPr5NtduuD"
      },
      "outputs": [],
      "source": [
        "import pandas as pd"
      ]
    },
    {
      "cell_type": "code",
      "execution_count": 15,
      "metadata": {
        "id": "owXsqKe0diIt"
      },
      "outputs": [],
      "source": [
        "df = pd.read_excel('/content/ODIR-5K/ODIR-5K/data.xlsx')"
      ]
    },
    {
      "cell_type": "code",
      "execution_count": 16,
      "metadata": {
        "id": "CdyaZG8cd2o4"
      },
      "outputs": [],
      "source": [
        "for image in df[df.N == 1]['Right-Fundus'].to_list()[:nb_samples]:\n",
        "  shutil.copyfile('/content/ODIR-5K/ODIR-5K/Training Images/'+image, '/content/data/trainA/'+image)"
      ]
    },
    {
      "cell_type": "code",
      "execution_count": 17,
      "metadata": {
        "colab": {
          "base_uri": "https://localhost:8080/"
        },
        "id": "Ksr84jf5lkxJ",
        "outputId": "fcf91a72-ccd1-49de-b2a7-da484ca70f89"
      },
      "outputs": [
        {
          "output_type": "stream",
          "name": "stdout",
          "text": [
            "complete\n"
          ]
        }
      ],
      "source": [
        "directory = '/content/ODIR-5K/ODIR-5K/Testing Images/'\n",
        "for filename in os.listdir(directory):\n",
        "    f = os.path.join(directory, filename)\n",
        "    if os.path.isfile(f):\n",
        "      #print('saving', filename, ' ...')\n",
        "      shutil.copyfile(directory+filename, '/content/data/testA/'+filename)\n",
        "print(\"complete\")"
      ]
    },
    {
      "cell_type": "code",
      "execution_count": 18,
      "metadata": {
        "id": "qGBlUgqjnFl3"
      },
      "outputs": [],
      "source": [
        "! rm -r \"/content/ODIR-5K/\""
      ]
    },
    {
      "cell_type": "markdown",
      "source": [
        "# Config"
      ],
      "metadata": {
        "id": "DLXFd3uFvNUk"
      }
    },
    {
      "cell_type": "markdown",
      "source": [
        "## New config"
      ],
      "metadata": {
        "id": "uqEiSBxPyRbn"
      }
    },
    {
      "cell_type": "code",
      "source": [
        "START_AT_EPOCH = 10\n",
        "EPOCHS = 20\n",
        "DATASET_NAME = \"dfe_oct\"\n",
        "BATCH_SIZE = 32\n",
        "LEARNING_RATE = 2e-4\n",
        "BETA_1 = 0.5\n",
        "BETA_2 = 0.999\n",
        "START_DECAY_AT_EPOCH = 1\n",
        "N_CPU = 2\n",
        "IMG_HEIGHT = 128\n",
        "IMG_WIDTH = 128\n",
        "IMG_CHANNELS = 3\n",
        "SAMPLE_INTERVAL = 100\n",
        "CHECKPOINT_INTERVAL = 1000\n",
        "N_RES_BLOCK_IN_GEN = 9"
      ],
      "metadata": {
        "id": "MCuMnJSXvQot"
      },
      "execution_count": 37,
      "outputs": []
    },
    {
      "cell_type": "markdown",
      "source": [
        "# Losses and weights init"
      ],
      "metadata": {
        "id": "U1YyXJlGriP4"
      }
    },
    {
      "cell_type": "markdown",
      "metadata": {
        "id": "sA7-pdEGrL_U"
      },
      "source": [
        "Model uses an msssim loss. Most of the code below is with reference to pytorch_msssim"
      ]
    },
    {
      "cell_type": "code",
      "execution_count": 20,
      "metadata": {
        "id": "URQVZnj7ohID"
      },
      "outputs": [],
      "source": [
        "# from pytorch_msssim.pytorch_msssim with some modification if necessary\n",
        "\n",
        "def gaussian(window_size, sigma):\n",
        "    gauss = torch.Tensor([exp(-(x - window_size//2)**2/float(2*sigma**2)) for x in range(window_size)])\n",
        "    return gauss/gauss.sum()\n",
        "\n",
        "\n",
        "def create_window(window_size, channel=1):\n",
        "    _1D_window = gaussian(window_size, 1.5).unsqueeze(1)\n",
        "    _2D_window = _1D_window.mm(_1D_window.t()).float().unsqueeze(0).unsqueeze(0)\n",
        "    window = _2D_window.expand(channel, 1, window_size, window_size).contiguous()\n",
        "    return window\n",
        "\n",
        "\n",
        "def ssim(img1, img2, window_size=11, window=None, size_average=True, full=False, val_range=None):\n",
        "    # Value range can be different from 255. Other common ranges are 1 (sigmoid) and 2 (tanh).\n",
        "    if val_range is None:\n",
        "        if torch.max(img1) > 128:\n",
        "            max_val = 255\n",
        "        else:\n",
        "            max_val = 1\n",
        "\n",
        "        if torch.min(img1) < -0.5:\n",
        "            min_val = -1\n",
        "        else:\n",
        "            min_val = 0\n",
        "        L = max_val - min_val\n",
        "    else:\n",
        "        L = val_range\n",
        "\n",
        "    padd = 0\n",
        "    (_, channel, height, width) = img1.size()\n",
        "    if window is None:\n",
        "        real_size = min(window_size, height, width)\n",
        "        window = create_window(real_size, channel=channel).to(img1.device)\n",
        "\n",
        "    mu1 = F.conv2d(img1, window, padding=padd, groups=channel)\n",
        "    mu2 = F.conv2d(img2, window, padding=padd, groups=channel)\n",
        "\n",
        "    mu1_sq = mu1.pow(2)\n",
        "    mu2_sq = mu2.pow(2)\n",
        "    mu1_mu2 = mu1 * mu2\n",
        "\n",
        "    sigma1_sq = F.conv2d(img1 * img1, window, padding=padd, groups=channel) - mu1_sq\n",
        "    sigma2_sq = F.conv2d(img2 * img2, window, padding=padd, groups=channel) - mu2_sq\n",
        "    sigma12 = F.conv2d(img1 * img2, window, padding=padd, groups=channel) - mu1_mu2\n",
        "\n",
        "    C1 = (0.03 * L) ** 2\n",
        "    C2 = (0.05 * L) ** 2\n",
        "\n",
        "    v1 = 2.0 * sigma12 + C2\n",
        "    v2 = sigma1_sq + sigma2_sq + C2\n",
        "    cs = torch.mean(v1 / v2)  # contrast sensitivity\n",
        "\n",
        "    ssim_map = ((2 * mu1_mu2 + C1) * v1) / ((mu1_sq + mu2_sq + C1) * v2)\n",
        "\n",
        "    if size_average:\n",
        "        ret = ssim_map.mean()\n",
        "    else:\n",
        "        ret = ssim_map.mean(1).mean(1).mean(1)\n",
        "\n",
        "    if full:\n",
        "        return ret, cs\n",
        "    return ret\n",
        "\n",
        "\n",
        "def msssim(img1, img2, window_size=11, size_average=True, val_range=None, normalize=False):\n",
        "    device = img1.device\n",
        "    weights = torch.FloatTensor([0.0448, 0.2856, 0.3001, 0.2363, 0.1333]).to(device)\n",
        "    levels = weights.size()[0]\n",
        "    mssim = []\n",
        "    mcs = []\n",
        "    for _ in range(levels):\n",
        "        sim, cs = ssim(img1, img2, window_size=window_size, size_average=size_average, full=True, val_range=val_range)\n",
        "        mssim.append(sim)\n",
        "        mcs.append(cs)\n",
        "\n",
        "        img1 = F.avg_pool2d(img1, (2, 2))\n",
        "        img2 = F.avg_pool2d(img2, (2, 2))\n",
        "\n",
        "    mssim = torch.stack(mssim)\n",
        "    mcs = torch.stack(mcs)\n",
        "\n",
        "    # Normalize (to avoid NaNs during training unstable models, not compliant with original definition)\n",
        "    if normalize:\n",
        "        mssim = (mssim + 1) / 2\n",
        "        mcs = (mcs + 1) / 2\n",
        "\n",
        "    pow1 = mcs ** weights\n",
        "    pow2 = mssim ** weights\n",
        "    # From Matlab implementation https://ece.uwaterloo.ca/~z70wang/research/iwssim/\n",
        "    output = torch.prod(pow1[:-1] * pow2[-1])\n",
        "    return output\n",
        "\n",
        "\n",
        "# Classes to re-use window\n",
        "class SSIM(torch.nn.Module):\n",
        "    def __init__(self, window_size=11, size_average=True, val_range=None):\n",
        "        super(SSIM, self).__init__()\n",
        "        self.window_size = window_size\n",
        "        self.size_average = size_average\n",
        "        self.val_range = val_range\n",
        "\n",
        "        # Assume 1 channel for SSIM\n",
        "        self.channel = 1\n",
        "        self.window = create_window(window_size)\n",
        "\n",
        "    def forward(self, img1, img2):\n",
        "        (_, channel, _, _) = img1.size()\n",
        "\n",
        "        if channel == self.channel and self.window.dtype == img1.dtype:\n",
        "            window = self.window\n",
        "        else:\n",
        "            window = create_window(self.window_size, channel).to(img1.device).type(img1.dtype)\n",
        "            self.window = window\n",
        "            self.channel = channel\n",
        "\n",
        "        return ssim(img1, img2, window=window, window_size=self.window_size, size_average=self.size_average)\n",
        "\n",
        "class MSSSIM(torch.nn.Module):\n",
        "    def __init__(self, window_size=11, size_average=True, normalize = False, channel=3):\n",
        "        super(MSSSIM, self).__init__()\n",
        "        self.window_size = window_size\n",
        "        self.size_average = size_average\n",
        "        self.channel = channel\n",
        "        self.normalize = normalize\n",
        "\n",
        "    def forward(self, img1, img2):\n",
        "        # TODO: store window between calls if possible\n",
        "        return msssim(img1, img2, window_size=self.window_size, size_average=self.size_average, normalize = self.normalize)\n"
      ]
    },
    {
      "cell_type": "code",
      "execution_count": 21,
      "metadata": {
        "id": "HHzNvBH0_Ii8"
      },
      "outputs": [],
      "source": [
        "def weights_init_normal(m):\n",
        "    classname = m.__class__.__name__\n",
        "    if classname.find(\"Conv\") != -1:\n",
        "        torch.nn.init.normal_(m.weight.data, 0.0, 0.02)\n",
        "    elif classname.find(\"BatchNorm2d\") != -1:\n",
        "        torch.nn.init.normal_(m.weight.data, 1.0, 0.02)\n",
        "        torch.nn.init.constant_(m.bias.data, 0.0)\n",
        "#     elif classname.find(\"Disc_Block\") != -1:\n",
        "#         torch.nn.init.normal_(m.weight.data, 1.0, 0.02)\n",
        "#         torch.nn.init.constant_(m.bias.data, 0.0)\n",
        "#     elif classname.find(\"Dilated_Block\") != -1:\n",
        "#         torch.nn.init.normal_(m.weight.data, 1.0, 0.02)\n",
        "#         torch.nn.init.constant_(m.bias.data, 0.0)\n",
        "#     elif classname.find(\"InstanceNorm2d\") != -1:\n",
        "#         torch.nn.init.normal_(m.weight.data, 1.0, 0.02)\n",
        "#         torch.nn.init.constant_(m.bias.data, 0.0)"
      ]
    },
    {
      "cell_type": "markdown",
      "metadata": {
        "id": "RXw9riUarL_a"
      },
      "source": [
        "# Utilities"
      ]
    },
    {
      "cell_type": "code",
      "execution_count": 22,
      "metadata": {
        "id": "HiWJSP9YCGhl"
      },
      "outputs": [],
      "source": [
        "class ReplayBuffer:\n",
        "    def __init__(self, max_size=50):\n",
        "        assert max_size > 0, \"Empty buffer or trying to create a black hole. Be careful.\"\n",
        "        self.max_size = max_size\n",
        "        self.data = []\n",
        "\n",
        "    def push_and_pop(self, data):\n",
        "        to_return = []\n",
        "        for element in data.data:\n",
        "            element = torch.unsqueeze(element, 0)\n",
        "            if len(self.data) < self.max_size:\n",
        "                self.data.append(element)\n",
        "                to_return.append(element)\n",
        "            else:\n",
        "                if random.uniform(0, 1) > 0.5:\n",
        "                    i = random.randint(0, self.max_size - 1)\n",
        "                    to_return.append(self.data[i].clone())\n",
        "                    self.data[i] = element\n",
        "                else:\n",
        "                    to_return.append(element)\n",
        "        return Variable(torch.cat(to_return))\n",
        "\n",
        "\n",
        "class LambdaLR:\n",
        "    def __init__(self, n_epochs, offset, decay_start_epoch):\n",
        "        assert (n_epochs - decay_start_epoch) > 0, \"Decay must start before the training session ends!\"\n",
        "        self.n_epochs = n_epochs\n",
        "        self.offset = offset\n",
        "        self.decay_start_epoch = decay_start_epoch\n",
        "\n",
        "    def step(self, epoch):\n",
        "        return 1.0 - max(0, epoch + self.offset - self.decay_start_epoch) / (self.n_epochs - self.decay_start_epoch)\n"
      ]
    },
    {
      "cell_type": "code",
      "source": [
        "def sample_images(batches_done):\n",
        "    \"\"\"Saves a generated sample from the test set\"\"\"\n",
        "    imgs = next(iter(val_dataloader))\n",
        "    G_AB.eval()\n",
        "    G_BA.eval()\n",
        "    real_A = Variable(imgs[\"A\"].type(Tensor))\n",
        "    fake_B = G_AB(real_A)\n",
        "    real_B = Variable(imgs[\"B\"].type(Tensor))\n",
        "    fake_A = G_BA(real_B)\n",
        "    # Arange images along x-axis\n",
        "    real_A = make_grid(real_A, nrow=5, normalize=True)\n",
        "    real_B = make_grid(real_B, nrow=5, normalize=True)\n",
        "    fake_A = make_grid(fake_A, nrow=5, normalize=True)\n",
        "    fake_B = make_grid(fake_B, nrow=5, normalize=True)\n",
        "    # Arange images along y-axis\n",
        "    image_grid = torch.cat((real_A, fake_B, real_B, fake_A), 1)\n",
        "    save_image(image_grid, \"images/%s/%s.png\" % (DATASET_NAME, batches_done), normalize=False)\n"
      ],
      "metadata": {
        "id": "ZgwAoSGfuuh3"
      },
      "execution_count": 23,
      "outputs": []
    },
    {
      "cell_type": "code",
      "source": [
        "def to_rgb(image):\n",
        "    rgb_image = Image.new(\"RGB\", image.size)\n",
        "    rgb_image.paste(image)\n",
        "    return rgb_image"
      ],
      "metadata": {
        "id": "NFujsLVMwRyP"
      },
      "execution_count": 24,
      "outputs": []
    },
    {
      "cell_type": "markdown",
      "metadata": {
        "id": "2lABTrfurL_c"
      },
      "source": [
        "The structure of the model is written here"
      ]
    },
    {
      "cell_type": "markdown",
      "source": [
        "# Generator"
      ],
      "metadata": {
        "id": "sUw4SQjDro6i"
      }
    },
    {
      "cell_type": "code",
      "execution_count": 25,
      "metadata": {
        "id": "oodDTgZGrL_c"
      },
      "outputs": [],
      "source": [
        "class ResidualBlock(nn.Module):\n",
        "    def __init__(self, in_features, out_features):\n",
        "        super(ResidualBlock, self).__init__()\n",
        "\n",
        "        self.block1 = nn.Sequential(\n",
        "            nn.Conv2d(in_features, out_features, 3, 1, 1),\n",
        "            nn.Conv2d(out_features, out_features, 3, 1, 1),\n",
        "            )\n",
        "\n",
        "        self.block2 = nn.Sequential(\n",
        "            nn.Conv2d(in_features+out_features, out_features, 3, 1, 1)\n",
        "            )\n",
        "\n",
        "    def forward(self, x):\n",
        "        res =  torch.cat((self.block1(x), x), 1)\n",
        "        out = self.block2(res)\n",
        "        return out\n",
        ""
      ]
    },
    {
      "cell_type": "code",
      "execution_count": 26,
      "metadata": {
        "id": "9pMKrRMd3FFx"
      },
      "outputs": [],
      "source": [
        "class Generator(nn.Module):\n",
        "    def __init__(self, channels=3):\n",
        "        super(Generator, self).__init__()\n",
        "\n",
        "        def downsample(in_feat, out_feat, normalize=True):\n",
        "            layers = [nn.Conv2d(in_feat, out_feat, 4, stride=2, padding=1)]\n",
        "            if normalize:\n",
        "                layers.append(nn.InstanceNorm2d(out_feat))\n",
        "            layers.append(nn.LeakyReLU(0.2))\n",
        "            return layers\n",
        "\n",
        "        def upsample(in_feat, out_feat, normalize=True):\n",
        "            layers = [nn.ConvTranspose2d(in_feat, out_feat, 4, stride=2, padding=1)]\n",
        "            if normalize:\n",
        "                layers.append(nn.InstanceNorm2d(out_feat, 0.8))\n",
        "            layers.append(nn.ReLU())\n",
        "            return layers\n",
        "\n",
        "        def residual(in_feat, depth = 3):\n",
        "            layers = []\n",
        "            for i in range(depth):\n",
        "                layers.append(ResidualBlock(in_feat, in_feat))\n",
        "            return layers\n",
        "\n",
        "        nf = 64\n",
        "        d = 3\n",
        "\n",
        "        self.block1 = nn.Sequential(\n",
        "                    nn.Conv2d(channels, nf, 4, 2, 1),\n",
        "                    nn.LeakyReLU(),\n",
        "                    *downsample(nf, 2*nf),\n",
        "                    *residual(2*nf, d))\n",
        "\n",
        "        self.block2 = nn.Sequential(\n",
        "                    *downsample(2*nf, 4*nf),\n",
        "                    *residual(4*nf, d)\n",
        "                    )\n",
        "\n",
        "\n",
        "\n",
        "        self.block3 = nn.Sequential(\n",
        "                    *downsample(4*nf, 8*nf),\n",
        "                    *residual(8*nf, d),\n",
        "                    *upsample(8*nf, 4*nf),\n",
        "                    )\n",
        "\n",
        "        self.block4 = nn.Sequential(\n",
        "                    ResidualBlock(8*nf, 4*nf),\n",
        "                    *residual(4*nf, d-1),\n",
        "                    *upsample(4*nf, 2*nf)\n",
        "                    )\n",
        "\n",
        "        self.block5 = nn.Sequential(\n",
        "                    ResidualBlock(4*nf, 2*nf),\n",
        "                    *residual(2*nf, d-1),\n",
        "                    *upsample(2*nf, nf),\n",
        "                    nn.ConvTranspose2d(nf, 3, 4, 2, 1),\n",
        "        #                     nn.Sigmoid()\n",
        "                    nn.Tanh()\n",
        "        )\n",
        "\n",
        "    def forward(self, x):\n",
        "        y1 = self.block1(x)\n",
        "        y2 = self.block2(y1)\n",
        "        y3 = self.block3(y2)\n",
        "        y4 = torch.cat((y3, y2), 1)\n",
        "        y5 = self.block4(y4)\n",
        "        y6 = torch.cat((y5, y1), 1)\n",
        "        out = self.block5(y6)\n",
        "        return out"
      ]
    },
    {
      "cell_type": "markdown",
      "source": [
        "# Discriminator"
      ],
      "metadata": {
        "id": "Rncsbz4Orqe7"
      }
    },
    {
      "cell_type": "code",
      "execution_count": 27,
      "metadata": {
        "id": "2r3jy_B1_wlW"
      },
      "outputs": [],
      "source": [
        "class Disc_Block(nn.Module):\n",
        "    def __init__(self, in_features, out_features, normalize = True, kernel_size = 4, stride = 2, padding = 1):\n",
        "        super(Disc_Block, self).__init__()\n",
        "\n",
        "        layers = [nn.Conv2d(in_features, out_features, kernel_size, stride, padding)]\n",
        "        if normalize:\n",
        "            layers.append(nn.InstanceNorm2d(out_features))\n",
        "        layers.append(nn.LeakyReLU(0.2, inplace=True))\n",
        "\n",
        "        self.block = nn.Sequential(*layers)\n",
        "\n",
        "    def forward(self, x):\n",
        "        return self.block(x)\n",
        "\n",
        "class Dilated_Block(nn.Module):\n",
        "    def __init__(self, in_features, out_features, dilation = 2, normalize = True, kernel_size = 3, stride = 1):\n",
        "        super(Dilated_Block, self).__init__()\n",
        "\n",
        "        layers = [nn.Conv2d(in_features, out_features, kernel_size, stride, padding = dilation, dilation = dilation)]\n",
        "        if normalize:\n",
        "            layers.append(nn.InstanceNorm2d(out_features))\n",
        "        layers.append(nn.LeakyReLU(0.2, inplace=True))\n",
        "\n",
        "        self.block = nn.Sequential(*layers)\n",
        "\n",
        "    def forward(self, x):\n",
        "        return self.block(x)"
      ]
    },
    {
      "cell_type": "code",
      "execution_count": 28,
      "metadata": {
        "id": "_tE5_mo7Elpi"
      },
      "outputs": [],
      "source": [
        "class Discriminator(nn.Module):\n",
        "    def __init__(self, channels=3):\n",
        "        super(Discriminator, self).__init__()\n",
        "\n",
        "        nf = 64\n",
        "\n",
        "        self.layer1 = Disc_Block(3, 2*nf, normalize = False)\n",
        "        #self.layer1 = nn.Conv2d(3, 2*nf, 4, 2, 1)\n",
        "        self.layer2 = Disc_Block(2*nf, 4*nf)\n",
        "        self.layer3 = Disc_Block(4*nf, 8*nf)\n",
        "        self.layer4 = Disc_Block(8*nf, 8*nf, True, 3, 1, 1)\n",
        "        self.layer5 = Dilated_Block(8*nf, 8*nf, 2)\n",
        "        self.layer6 = Dilated_Block(8*nf, 8*nf, 4)\n",
        "        self.layer7 = Dilated_Block(8*nf, 8*nf, 8)\n",
        "        self.layer9 = Disc_Block(16*nf, 8*nf, True, 3, 1, 1)\n",
        "        self.layer10 = nn.Conv2d(8*nf, 1, 3, 1, 1)\n",
        "\n",
        "    def forward(self, x):\n",
        "        l1 = self.layer1(x)\n",
        "        l2 = self.layer2(l1)\n",
        "        l3 = self.layer3(l2)\n",
        "        l4 = self.layer4(l3)\n",
        "        l5 = self.layer5(l4)\n",
        "        l6 = self.layer6(l5)\n",
        "        l7 = self.layer7(l6)\n",
        "        l8 = torch.cat((l4, l7), 1)\n",
        "        l9 = self.layer9(l8)\n",
        "        l10 = self.layer10(l9)\n",
        "\n",
        "        return l10, (l2, l3, l4, l5, l6, l7, l9)"
      ]
    },
    {
      "cell_type": "markdown",
      "source": [
        "# Normalize losses"
      ],
      "metadata": {
        "id": "-EOm0jgrruQu"
      }
    },
    {
      "cell_type": "markdown",
      "metadata": {
        "id": "R_g0JCADrL_h"
      },
      "source": [
        "Losses need to be normalised to stabilise training"
      ]
    },
    {
      "cell_type": "code",
      "execution_count": 29,
      "metadata": {
        "id": "ZN_lcBBXrL_i"
      },
      "outputs": [],
      "source": [
        "def feature_match_loss(feat_real, feat_fake):\n",
        "    fml = nn.MSELoss()\n",
        "\n",
        "    if len(feat_real) != len(feat_fake):\n",
        "        return 0\n",
        "\n",
        "    l = len(feat_real)\n",
        "\n",
        "    out = []\n",
        "    for x, y in zip(feat_real, feat_fake):\n",
        "        out.append(fml(x, y))\n",
        "    out = torch.mean(Tensor(out))\n",
        "\n",
        "    return out"
      ]
    },
    {
      "cell_type": "code",
      "execution_count": 30,
      "metadata": {
        "id": "EyyTvc5hxAg7"
      },
      "outputs": [],
      "source": [
        "def normalise_loss(loss, update_condition, epsilon = 1e-10):\n",
        "    loss_value = 1\n",
        "    loss_value_smooth = 1\n",
        "\n",
        "    # hard-coded the implementation of tf.python.training.moving_averages(variable, value, decay)\n",
        "    # variable -= (1 - decay) * (variable - value)\n",
        "    decay = 0.9999\n",
        "    ma_loss_value = loss_value_smooth - (1 - decay)*(loss_value_smooth - loss)\n",
        "\n",
        "    loss_value_updated = loss_value\n",
        "\n",
        "    if update_condition:\n",
        "        # loss_value = ma_loss_value\n",
        "        loss_value_updated = ma_loss_value\n",
        "\n",
        "    loss_normalised = loss/(loss_value_updated + epsilon)\n",
        "\n",
        "    return loss_normalised"
      ]
    },
    {
      "cell_type": "markdown",
      "source": [
        "# Dataset"
      ],
      "metadata": {
        "id": "PqTdpRv0r6Wu"
      }
    },
    {
      "cell_type": "markdown",
      "source": [
        "## Dataset class"
      ],
      "metadata": {
        "id": "xlkvFQLyubFq"
      }
    },
    {
      "cell_type": "markdown",
      "metadata": {
        "id": "aBNelpD_rL_j"
      },
      "source": [
        "Dataloader to load data in the manner required by the model. One image of type A and another type B"
      ]
    },
    {
      "cell_type": "code",
      "execution_count": 31,
      "metadata": {
        "id": "_-IMam7o7ufO"
      },
      "outputs": [],
      "source": [
        "class ImageDataset(Dataset):\n",
        "    def __init__(self, root, transforms_=None, unaligned=False, mode=\"train\"):\n",
        "        self.transform = transforms.Compose(transforms_)\n",
        "        self.unaligned = unaligned\n",
        "\n",
        "        self.files_A = sorted(glob.glob(os.path.join(root, \"%sA\" % mode) + \"/*.*\"))\n",
        "        self.files_B = sorted(glob.glob(os.path.join(root, \"%sB\" % mode) + \"/*.*\"))\n",
        "\n",
        "    def __getitem__(self, index):\n",
        "        image_A = Image.open(self.files_A[index % len(self.files_A)])\n",
        "\n",
        "        if self.unaligned:\n",
        "            image_B = Image.open(self.files_B[random.randint(0, len(self.files_B) - 1)])\n",
        "        else:\n",
        "            image_B = Image.open(self.files_B[index % len(self.files_B)])\n",
        "\n",
        "        # Convert grayscale images to rgb\n",
        "        if image_A.mode != \"RGB\":\n",
        "            image_A = to_rgb(image_A)\n",
        "        if image_B.mode != \"RGB\":\n",
        "            image_B = to_rgb(image_B)\n",
        "\n",
        "        item_A = self.transform(image_A)\n",
        "        item_B = self.transform(image_B)\n",
        "        return {\"A\": item_A, \"B\": item_B}\n",
        "\n",
        "    def __len__(self):\n",
        "        return max(len(self.files_A), len(self.files_B))\n"
      ]
    },
    {
      "cell_type": "markdown",
      "source": [
        "## Dataloader"
      ],
      "metadata": {
        "id": "MsFk0hnTudxY"
      }
    },
    {
      "cell_type": "code",
      "source": [
        "# Image transformations\n",
        "transforms_ = [\n",
        "    transforms.Resize((IMG_HEIGHT, IMG_WIDTH)),\n",
        "    transforms.CenterCrop((IMG_HEIGHT, IMG_WIDTH)),\n",
        "    transforms.RandomHorizontalFlip(),\n",
        "    transforms.ToTensor(),\n",
        "    transforms.Normalize((0.5, 0.5, 0.5), (0.5, 0.5, 0.5)),\n",
        "]\n",
        "\n",
        "# Training data loader\n",
        "dataloader = DataLoader(\n",
        "    ImageDataset(\"/content/data/\", transforms_=transforms_, unaligned=True),\n",
        "    batch_size=BATCH_SIZE,\n",
        "    shuffle=True,\n",
        "    num_workers=N_CPU\n",
        ")\n",
        "# Test data loader\n",
        "val_dataloader = DataLoader(\n",
        "    ImageDataset(\"/content/data/\", transforms_=transforms_, unaligned=True, mode=\"test\"),\n",
        "    batch_size=5,\n",
        "    shuffle=True,\n",
        "    num_workers=1\n",
        ")"
      ],
      "metadata": {
        "id": "7teG7JaRuWzB"
      },
      "execution_count": 32,
      "outputs": []
    },
    {
      "cell_type": "markdown",
      "metadata": {
        "id": "j5hmR71RrL_k"
      },
      "source": [
        "To train the model on cat_dog_face dataset. Modify this part to call from command line and train with other datasets"
      ]
    },
    {
      "cell_type": "code",
      "execution_count": 33,
      "metadata": {
        "id": "Pvs3ziyM9bH_"
      },
      "outputs": [],
      "source": [
        "# Create sample and checkpoint directories\n",
        "os.makedirs(\"images/%s\" % DATASET_NAME, exist_ok=True)\n",
        "os.makedirs(\"saved_models/%s\" % DATASET_NAME, exist_ok=True)\n",
        "\n",
        "patch = (1, IMG_HEIGHT // 2**3, IMG_WIDTH // 2**3)\n",
        "\n",
        "# Losses\n",
        "msssim_loss = MSSSIM(window_size = 8, normalize = True)\n",
        "l1_loss = nn.L1Loss()\n",
        "gan_loss = nn.BCEWithLogitsLoss()\n",
        "\n",
        "cuda = torch.cuda.is_available()\n",
        "\n",
        "input_shape = (IMG_CHANNELS, IMG_HEIGHT, IMG_WIDTH)\n",
        "\n",
        "# Initialize generator and discriminator\n",
        "G_AB = Generator()\n",
        "G_BA = Generator()\n",
        "D_A = Discriminator()\n",
        "D_B = Discriminator()\n",
        "\n",
        "if cuda:\n",
        "    G_AB = G_AB.cuda()\n",
        "    G_BA = G_BA.cuda()\n",
        "    D_A = D_A.cuda()\n",
        "    D_B = D_B.cuda()\n",
        "    msssim_loss.cuda()\n",
        "    l1_loss.cuda()\n",
        "    gan_loss.cuda()\n",
        "\n",
        "if START_AT_EPOCH != 0:\n",
        "    # Load pretrained models\n",
        "    G_AB.load_state_dict(torch.load(\"saved_models/%s/G_AB_%d.pth\" % (DATASET_NAME, START_AT_EPOCH)))\n",
        "    G_BA.load_state_dict(torch.load(\"saved_models/%s/G_BA_%d.pth\" % (DATASET_NAME, START_AT_EPOCH)))\n",
        "    D_A.load_state_dict(torch.load(\"saved_models/%s/D_A_%d.pth\" % (DATASET_NAME, START_AT_EPOCH)))\n",
        "    D_B.load_state_dict(torch.load(\"saved_models/%s/D_B_%d.pth\" % (DATASET_NAME, START_AT_EPOCH)))\n",
        "else:\n",
        "    # Initialize weights\n",
        "    G_AB.apply(weights_init_normal)\n",
        "    G_BA.apply(weights_init_normal)\n",
        "    D_A.apply(weights_init_normal)\n",
        "    D_B.apply(weights_init_normal)\n",
        "\n",
        "# Optimizers\n",
        "optimizer_G = torch.optim.Adam(\n",
        "    itertools.chain(G_AB.parameters(), G_BA.parameters()), lr=LEARNING_RATE, betas=(BETA_1, BETA_2)\n",
        ")\n",
        "optimizer_D_A = torch.optim.Adam(D_A.parameters(), lr=LEARNING_RATE, betas=(BETA_1, BETA_2))\n",
        "optimizer_D_B = torch.optim.Adam(D_B.parameters(), lr=LEARNING_RATE, betas=(BETA_1, BETA_2))\n",
        "\n",
        "# Learning rate update schedulers\n",
        "lr_scheduler_G = torch.optim.lr_scheduler.LambdaLR(\n",
        "    optimizer_G, lr_lambda=LambdaLR(EPOCHS, START_AT_EPOCH, START_DECAY_AT_EPOCH).step\n",
        ")\n",
        "lr_scheduler_D_A = torch.optim.lr_scheduler.LambdaLR(\n",
        "    optimizer_D_A, lr_lambda=LambdaLR(EPOCHS, START_AT_EPOCH, START_DECAY_AT_EPOCH).step\n",
        ")\n",
        "lr_scheduler_D_B = torch.optim.lr_scheduler.LambdaLR(\n",
        "    optimizer_D_B, lr_lambda=LambdaLR(EPOCHS, START_AT_EPOCH, START_DECAY_AT_EPOCH).step\n",
        ")\n",
        "\n",
        "Tensor = torch.cuda.FloatTensor if cuda else torch.Tensor\n",
        "\n",
        "# Buffers of previously generated samples\n",
        "fake_A_buffer = ReplayBuffer()\n",
        "fake_B_buffer = ReplayBuffer()\n"
      ]
    },
    {
      "cell_type": "markdown",
      "source": [
        "# Train"
      ],
      "metadata": {
        "id": "NEzr_iQBsd1q"
      }
    },
    {
      "cell_type": "code",
      "execution_count": 38,
      "metadata": {
        "colab": {
          "base_uri": "https://localhost:8080/",
          "height": 495
        },
        "id": "TyVcSxwR-rbH",
        "outputId": "ebdbcfda-1393-4912-d315-1dc68626756c"
      },
      "outputs": [
        {
          "output_type": "stream",
          "name": "stderr",
          "text": [
            "100%|██████████| 313/313 [09:05<00:00,  1.74s/it, adv=779, cycle=0.852, feature_matching=0.871, loss_D=412, loss_G=382]\n",
            "100%|██████████| 313/313 [09:03<00:00,  1.74s/it, adv=1.03e+3, cycle=0.775, feature_matching=0.766, loss_D=542, loss_G=504]\n",
            "100%|██████████| 313/313 [09:03<00:00,  1.74s/it, adv=1.29e+3, cycle=0.698, feature_matching=0.673, loss_D=685, loss_G=635]\n",
            " 68%|██████▊   | 213/313 [06:14<02:55,  1.76s/it, adv=1.53e+3, cycle=0.792, feature_matching=0.761, loss_D=797, loss_G=749]\n"
          ]
        },
        {
          "output_type": "error",
          "ename": "KeyboardInterrupt",
          "evalue": "ignored",
          "traceback": [
            "\u001b[0;31m---------------------------------------------------------------------------\u001b[0m",
            "\u001b[0;31mKeyboardInterrupt\u001b[0m                         Traceback (most recent call last)",
            "\u001b[0;32m<ipython-input-38-6cb8c9c195ce>\u001b[0m in \u001b[0;36m<cell line: 8>\u001b[0;34m()\u001b[0m\n\u001b[1;32m     89\u001b[0m             \u001b[0mloss_G\u001b[0m \u001b[0;34m=\u001b[0m \u001b[0mlambda_gan\u001b[0m\u001b[0;34m*\u001b[0m\u001b[0msln_gan_loss\u001b[0m \u001b[0;34m+\u001b[0m \u001b[0mlambda_fm\u001b[0m\u001b[0;34m*\u001b[0m\u001b[0msln_fm_loss\u001b[0m \u001b[0;34m+\u001b[0m \u001b[0mlambda_cyc\u001b[0m\u001b[0;34m*\u001b[0m\u001b[0msln_recon_loss\u001b[0m\u001b[0;34m\u001b[0m\u001b[0;34m\u001b[0m\u001b[0m\n\u001b[1;32m     90\u001b[0m \u001b[0;34m\u001b[0m\u001b[0m\n\u001b[0;32m---> 91\u001b[0;31m             \u001b[0mloss_G\u001b[0m\u001b[0;34m.\u001b[0m\u001b[0mbackward\u001b[0m\u001b[0;34m(\u001b[0m\u001b[0;34m)\u001b[0m\u001b[0;34m\u001b[0m\u001b[0;34m\u001b[0m\u001b[0m\n\u001b[0m\u001b[1;32m     92\u001b[0m             \u001b[0moptimizer_G\u001b[0m\u001b[0;34m.\u001b[0m\u001b[0mstep\u001b[0m\u001b[0;34m(\u001b[0m\u001b[0;34m)\u001b[0m\u001b[0;34m\u001b[0m\u001b[0;34m\u001b[0m\u001b[0m\n\u001b[1;32m     93\u001b[0m \u001b[0;34m\u001b[0m\u001b[0m\n",
            "\u001b[0;32m/usr/local/lib/python3.10/dist-packages/torch/_tensor.py\u001b[0m in \u001b[0;36mbackward\u001b[0;34m(self, gradient, retain_graph, create_graph, inputs)\u001b[0m\n\u001b[1;32m    490\u001b[0m                 \u001b[0minputs\u001b[0m\u001b[0;34m=\u001b[0m\u001b[0minputs\u001b[0m\u001b[0;34m,\u001b[0m\u001b[0;34m\u001b[0m\u001b[0;34m\u001b[0m\u001b[0m\n\u001b[1;32m    491\u001b[0m             )\n\u001b[0;32m--> 492\u001b[0;31m         torch.autograd.backward(\n\u001b[0m\u001b[1;32m    493\u001b[0m             \u001b[0mself\u001b[0m\u001b[0;34m,\u001b[0m \u001b[0mgradient\u001b[0m\u001b[0;34m,\u001b[0m \u001b[0mretain_graph\u001b[0m\u001b[0;34m,\u001b[0m \u001b[0mcreate_graph\u001b[0m\u001b[0;34m,\u001b[0m \u001b[0minputs\u001b[0m\u001b[0;34m=\u001b[0m\u001b[0minputs\u001b[0m\u001b[0;34m\u001b[0m\u001b[0;34m\u001b[0m\u001b[0m\n\u001b[1;32m    494\u001b[0m         )\n",
            "\u001b[0;32m/usr/local/lib/python3.10/dist-packages/torch/autograd/__init__.py\u001b[0m in \u001b[0;36mbackward\u001b[0;34m(tensors, grad_tensors, retain_graph, create_graph, grad_variables, inputs)\u001b[0m\n\u001b[1;32m    249\u001b[0m     \u001b[0;31m# some Python versions print out the first line of a multi-line function\u001b[0m\u001b[0;34m\u001b[0m\u001b[0;34m\u001b[0m\u001b[0m\n\u001b[1;32m    250\u001b[0m     \u001b[0;31m# calls in the traceback and some print out the last line\u001b[0m\u001b[0;34m\u001b[0m\u001b[0;34m\u001b[0m\u001b[0m\n\u001b[0;32m--> 251\u001b[0;31m     Variable._execution_engine.run_backward(  # Calls into the C++ engine to run the backward pass\n\u001b[0m\u001b[1;32m    252\u001b[0m         \u001b[0mtensors\u001b[0m\u001b[0;34m,\u001b[0m\u001b[0;34m\u001b[0m\u001b[0;34m\u001b[0m\u001b[0m\n\u001b[1;32m    253\u001b[0m         \u001b[0mgrad_tensors_\u001b[0m\u001b[0;34m,\u001b[0m\u001b[0;34m\u001b[0m\u001b[0;34m\u001b[0m\u001b[0m\n",
            "\u001b[0;31mKeyboardInterrupt\u001b[0m: "
          ]
        }
      ],
      "source": [
        "# Training\n",
        "\n",
        "prev_time = time.time()\n",
        "\n",
        "\n",
        "# norm = transforms.Normalize((0.5, 0.5, 0.5), (0.5, 0.5, 0.5))\n",
        "\n",
        "for epoch in range(START_AT_EPOCH, EPOCHS):\n",
        "    loop = tqdm(dataloader, leave=True)\n",
        "    for i, batch in enumerate(loop):\n",
        "\n",
        "        # Set model input\n",
        "        real_A = Variable(batch[\"A\"].type(Tensor))\n",
        "        real_B = Variable(batch[\"B\"].type(Tensor))\n",
        "\n",
        "        # Adversarial ground truths\n",
        "#         valid = Variable(Tensor(np.ones((real_A.size(0), *patch))), requires_grad=False)\n",
        "#         fake = Variable(Tensor(np.zeros((real_A.size(0), *patch))), requires_grad=False)\n",
        "        valid = Variable(Tensor(np.ones((real_A.size(0), *patch))), requires_grad=False)\n",
        "        fake = Variable(Tensor(np.zeros((real_A.size(0), *patch))), requires_grad=False)\n",
        "\n",
        "        batches_done = epoch * len(dataloader) + i\n",
        "        condition = (batches_done == 36) or (batches_done % 90 == 0)\n",
        "\n",
        "        # ------------------\n",
        "        #  Train Generators\n",
        "        # ------------------\n",
        "        if i%3 == 0:\n",
        "            G_AB.train()\n",
        "            G_BA.train()\n",
        "\n",
        "            optimizer_G.zero_grad()\n",
        "\n",
        "            # Images\n",
        "            fake_A = G_BA(real_B)\n",
        "            fake_B = G_AB(real_A)\n",
        "\n",
        "            recov_A = G_BA(fake_B)\n",
        "            recov_B = G_AB(fake_A)\n",
        "\n",
        "            real_A_dis, real_A_feat = D_A(real_A)\n",
        "            fake_A_dis, fake_A_feat = D_A(fake_A)\n",
        "\n",
        "            real_B_dis, real_B_feat = D_B(real_B)\n",
        "            fake_B_dis, fake_B_feat = D_B(fake_B)\n",
        "\n",
        "            # Lambdas for final arithmetic, taken from the paper\n",
        "            lambda_gan = 0.49\n",
        "            lambda_fm = 0.21\n",
        "            lambda_cyc = 0.3\n",
        "            lambda_ss = 0.7\n",
        "            lambda_l1 = 0.3\n",
        "\n",
        "            # Reconstruction loss\n",
        "            recon_loss_A = 1 - msssim_loss(real_A, recov_A)\n",
        "            #         print(recon_loss_A)\n",
        "            recon_loss_A_l = l1_loss(real_A, recov_A)\n",
        "            #         print(recon_loss_A_l)\n",
        "\n",
        "            recon_loss_B = 1 - msssim_loss(real_B, recov_B)\n",
        "            recon_loss_B_l = l1_loss(real_B, recov_B)\n",
        "\n",
        "            total_recon_loss = recon_loss_A + recon_loss_B\n",
        "            total_recon_loss_l = recon_loss_A_l + recon_loss_B_l\n",
        "\n",
        "            total_recon = lambda_ss*total_recon_loss + lambda_l1*total_recon_loss_l\n",
        "            sln_recon_loss = normalise_loss(total_recon, condition)\n",
        "\n",
        "\n",
        "            # GAN loss\n",
        "            gan_loss_A = gan_loss(fake_A_dis, valid)\n",
        "            #           print(gan_loss_A)\n",
        "            #           print(valid.shape)\n",
        "\n",
        "            gan_loss_B = gan_loss(fake_B_dis, valid)\n",
        "\n",
        "            total_gan_loss = gan_loss_A + gan_loss_B\n",
        "            sln_gan_loss = normalise_loss(total_gan_loss, condition)\n",
        "\n",
        "            # Feature Matching loss\n",
        "            fm_loss_A = feature_match_loss(real_A_feat, fake_A_feat)\n",
        "\n",
        "            fm_loss_B = feature_match_loss(real_B_feat, fake_B_feat)\n",
        "\n",
        "            total_fm_loss = fm_loss_A + fm_loss_B\n",
        "            sln_fm_loss = normalise_loss(total_fm_loss, condition)\n",
        "\n",
        "            # Total loss\n",
        "            loss_G = lambda_gan*sln_gan_loss + lambda_fm*sln_fm_loss + lambda_cyc*sln_recon_loss\n",
        "\n",
        "            loss_G.backward()\n",
        "            optimizer_G.step()\n",
        "\n",
        "        # -----------------------\n",
        "        #  Train Discriminator A\n",
        "        # -----------------------\n",
        "\n",
        "        D_A.train()\n",
        "\n",
        "        optimizer_D_A.zero_grad()\n",
        "\n",
        "        # Real loss\n",
        "#         loss_real = criterion_GAN(D_A(real_A), valid)\n",
        "        # Fake loss (on batch of previously generated samples)\n",
        "#         fake_A_ = fake_A_buffer.push_and_pop(fake_A)\n",
        "#         loss_fake = criterion_GAN(D_A(fake_A_.detach()), fake)\n",
        "        # Total loss\n",
        "#         loss_D_A = (loss_real + loss_fake) / 2\n",
        "\n",
        "        # Adding gaussian noise to inputs of discriminator\n",
        "        real_A = real_A + Variable(torch.randn(real_A.shape).type(Tensor))\n",
        "        fake_A_ = fake_A_buffer.push_and_pop(fake_A)\n",
        "        fake_A_ = fake_A_ + Variable(torch.randn(fake_A_.shape).type(Tensor))\n",
        "\n",
        "        # Real loss\n",
        "\n",
        "        pos_loss_A = gan_loss(D_A(real_A)[0], valid.new_full((real_A.size(0), *patch), np.random.uniform(0.8, 1, 1).item()))\n",
        "        # Fake loss\n",
        "        neg_loss_A = gan_loss(D_A(fake_A_.detach())[0], fake.new_full((fake_A_.shape[0], *patch), np.random.uniform(0, 0.2, 1).item()))\n",
        "        # Total loss\n",
        "        loss_D_A = (pos_loss_A + neg_loss_A) / 2\n",
        "\n",
        "        loss_D_A.backward()\n",
        "        optimizer_D_A.step()\n",
        "\n",
        "        # -----------------------\n",
        "        #  Train Discriminator B\n",
        "        # -----------------------\n",
        "\n",
        "        D_B.train()\n",
        "\n",
        "        optimizer_D_B.zero_grad()\n",
        "\n",
        "        # Real loss\n",
        "#         loss_real = criterion_GAN(D_B(real_B), valid)\n",
        "        # Fake loss (on batch of previously generated samples)\n",
        "#         fake_B_ = fake_B_buffer.push_and_pop(fake_B)\n",
        "#         loss_fake = criterion_GAN(D_B(fake_B_.detach()), fake)\n",
        "        # Total loss\n",
        "#         loss_D_B = (loss_real + loss_fake) / 2\n",
        "\n",
        "        # Adding gaussian noise to inputs of discriminator\n",
        "        real_B = real_B + Variable(torch.randn(real_B.shape).type(Tensor))\n",
        "        fake_B_ = fake_B_buffer.push_and_pop(fake_B)\n",
        "        fake_B_ = fake_B_ + Variable(torch.randn(fake_B_.shape).type(Tensor))\n",
        "\n",
        "        # Real loss\n",
        "        pos_loss_B = gan_loss(D_B(real_B)[0], valid.new_full((real_B.size(0), *patch), np.random.uniform(0.8, 1, 1).item()))\n",
        "        # Fake loss\n",
        "        neg_loss_B = gan_loss(D_B(fake_B_.detach())[0], fake.new_full((fake_B_.shape[0], *patch), np.random.uniform(0, 0.2, 1).item()))\n",
        "        # Total loss\n",
        "        loss_D_B = (pos_loss_B + neg_loss_B) / 2\n",
        "\n",
        "        loss_D_B.backward()\n",
        "        optimizer_D_B.step()\n",
        "\n",
        "        loss_D = (loss_D_A + loss_D_B) / 2\n",
        "\n",
        "        # --------------\n",
        "        #  Log Progress\n",
        "        # --------------\n",
        "\n",
        "        # Determine approximate time left\n",
        "#         batches_done = epoch * len(dataloader) + i\n",
        "        batches_left = EPOCHS * len(dataloader) - batches_done\n",
        "        time_left = datetime.timedelta(seconds=batches_left * (time.time() - prev_time))\n",
        "        prev_time = time.time()\n",
        "\n",
        "        # Print log\n",
        "\n",
        "        loop.set_postfix(loss_D=loss_D.item(),\n",
        "                         loss_G=loss_G.item(),\n",
        "                         adv=total_gan_loss.item(),\n",
        "                         cycle=total_recon.item(),\n",
        "                         feature_matching=total_fm_loss.item(),\n",
        "                         )\n",
        "\n",
        "        '''\n",
        "        sys.stdout.write(\n",
        "            \"\\r[Epoch %d/%d] [Batch %d/%d] [D loss: %f] [G loss: %f, adv: %f, cycle: %f, feature matching: %f] ETA: %s\"\n",
        "            % (\n",
        "                epoch,\n",
        "                EPOCHS,\n",
        "                i,\n",
        "                len(dataloader),\n",
        "                loss_D,\n",
        "                loss_G,\n",
        "                total_gan_loss,\n",
        "                total_recon,\n",
        "                total_fm_loss,\n",
        "                time_left\n",
        "            )\n",
        "        )\n",
        "        '''\n",
        "\n",
        "        # If at sample interval save image\n",
        "        if batches_done % SAMPLE_INTERVAL == 0:\n",
        "            sample_images(batches_done)\n",
        "\n",
        "    # Update learning rates\n",
        "    lr_scheduler_G.step()\n",
        "    lr_scheduler_D_A.step()\n",
        "    lr_scheduler_D_B.step()\n",
        "\n",
        "    if CHECKPOINT_INTERVAL != -1 and epoch % CHECKPOINT_INTERVAL == 0:\n",
        "        # Save model checkpoints\n",
        "        torch.save(G_AB.state_dict(), \"saved_models/%s/G_AB_%d.pth\" % (DATASET_NAME, epoch))\n",
        "        torch.save(G_BA.state_dict(), \"saved_models/%s/G_BA_%d.pth\" % (DATASET_NAME, epoch))\n",
        "        torch.save(D_A.state_dict(), \"saved_models/%s/D_A_%d.pth\" % (DATASET_NAME, epoch))\n",
        "        torch.save(D_B.state_dict(), \"saved_models/%s/D_B_%d.pth\" % (DATASET_NAME, epoch))"
      ]
    },
    {
      "cell_type": "markdown",
      "metadata": {
        "id": "w6TpInfBrL_o"
      },
      "source": [
        "# Save the model after training"
      ]
    },
    {
      "cell_type": "code",
      "execution_count": 39,
      "metadata": {
        "id": "cO8VcqZRtU2p"
      },
      "outputs": [],
      "source": [
        "torch.save(G_AB.state_dict(), \"saved_models/%s/G_AB_%d.pth\" % (DATASET_NAME, epoch))\n",
        "torch.save(G_BA.state_dict(), \"saved_models/%s/G_BA_%d.pth\" % (DATASET_NAME, epoch))\n",
        "torch.save(D_A.state_dict(), \"saved_models/%s/D_A_%d.pth\" % (DATASET_NAME, epoch))\n",
        "torch.save(D_B.state_dict(), \"saved_models/%s/D_B_%d.pth\" % (DATASET_NAME, epoch))"
      ]
    },
    {
      "cell_type": "code",
      "source": [
        "directory = '/content/saved_models/dfe_oct/'\n",
        "drive_path = '/content/drive/MyDrive/Colab/GANimorph/'\n",
        "# iterate over files in\n",
        "# that directory\n",
        "for filename in os.listdir(directory):\n",
        "    f = os.path.join(directory, filename)\n",
        "    # checking if it is a file\n",
        "    if os.path.isfile(f):\n",
        "      print('saving', filename, ' ...')\n",
        "       # !cp filename drive_path+filename\n",
        "      shutil.copyfile(directory+filename, drive_path+filename)\n",
        "      print(\"complete\")\n"
      ],
      "metadata": {
        "colab": {
          "base_uri": "https://localhost:8080/"
        },
        "id": "_gzo7dGOfdD-",
        "outputId": "b28f0525-48c6-40c8-a300-b80641fad8d1"
      },
      "execution_count": 42,
      "outputs": [
        {
          "output_type": "stream",
          "name": "stdout",
          "text": [
            "saving D_B_13.pth  ...\n",
            "complete\n",
            "saving G_AB_13.pth  ...\n",
            "complete\n",
            "saving D_A_0.pth  ...\n",
            "complete\n",
            "saving G_AB_0.pth  ...\n",
            "complete\n",
            "saving G_BA_0.pth  ...\n",
            "complete\n",
            "saving D_A_13.pth  ...\n",
            "complete\n",
            "saving G_BA_13.pth  ...\n",
            "complete\n",
            "saving D_B_0.pth  ...\n",
            "complete\n"
          ]
        }
      ]
    },
    {
      "cell_type": "code",
      "source": [],
      "metadata": {
        "id": "z_43nli9fx9v"
      },
      "execution_count": null,
      "outputs": []
    }
  ],
  "metadata": {
    "accelerator": "GPU",
    "colab": {
      "provenance": [],
      "gpuType": "T4"
    },
    "kernelspec": {
      "display_name": "Python 3",
      "name": "python3"
    },
    "language_info": {
      "codemirror_mode": {
        "name": "ipython",
        "version": 3
      },
      "file_extension": ".py",
      "mimetype": "text/x-python",
      "name": "python",
      "nbconvert_exporter": "python",
      "pygments_lexer": "ipython3",
      "version": "3.6.10"
    }
  },
  "nbformat": 4,
  "nbformat_minor": 0
}